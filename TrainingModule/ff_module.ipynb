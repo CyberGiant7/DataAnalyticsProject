{
 "cells": [
  {
   "cell_type": "markdown",
   "metadata": {},
   "source": [
    "We need to install some packages (pip install \"package\"):\n",
    "- matplotlib\n",
    "- numpy\n",
    "- scikit-learn\n",
    "- tensorboard\n",
    "- torch"
   ]
  },
  {
   "cell_type": "code",
   "metadata": {
    "ExecuteTime": {
     "end_time": "2025-01-03T15:43:48.005076Z",
     "start_time": "2025-01-03T15:43:47.999034Z"
    }
   },
   "source": [
    "import random\n",
    "import os\n",
    "import time\n",
    "import pickle\n",
    "\n",
    "import numpy as np\n",
    "import pandas as pd\n",
    "\n",
    "from sklearn.model_selection import train_test_split\n",
    "from sklearn import preprocessing\n",
    "\n",
    "import torch\n",
    "from torch import nn\n",
    "from torch.utils.data import Dataset, DataLoader, Subset\n",
    "from torch.utils.tensorboard import SummaryWriter\n"
   ],
   "outputs": [],
   "execution_count": 3
  },
  {
   "cell_type": "code",
   "metadata": {
    "ExecuteTime": {
     "end_time": "2025-01-03T15:43:48.044123Z",
     "start_time": "2025-01-03T15:43:48.038230Z"
    }
   },
   "source": [
    "# For reproducibility\n",
    "def fix_random(seed: int) -> None:\n",
    "    \"\"\"Fix all the possible sources of randomness.\n",
    "\n",
    "    Args:\n",
    "        seed: the seed to use. \n",
    "    \"\"\"\n",
    "    np.random.seed(seed)\n",
    "    random.seed(seed)\n",
    "    torch.manual_seed(seed)\n",
    "    torch.cuda.manual_seed(seed)\n",
    "    \n",
    "    torch.backends.cudnn.benchmark = False\n",
    "    torch.backends.cudnn.deterministic = True  # slower\n",
    "\n",
    "seed = 42"
   ],
   "outputs": [],
   "execution_count": 4
  },
  {
   "cell_type": "code",
   "metadata": {
    "ExecuteTime": {
     "end_time": "2025-01-03T15:43:48.069747Z",
     "start_time": "2025-01-03T15:43:48.064481Z"
    }
   },
   "source": [
    "# Define the Data Layer        \n",
    "class MyDataset(Dataset):\n",
    "    def __init__(self, X, y):\n",
    "        \n",
    "        self.X = torch.FloatTensor(X)\n",
    "        self.y = torch.LongTensor(y)\n",
    "         \n",
    "        self.num_features = X.shape[1]\n",
    "        self.num_classes = len(np.unique(y))\n",
    "       \n",
    "\n",
    "    def __len__(self):\n",
    "        return self.X.shape[0]\n",
    "\n",
    "    def __getitem__(self, idx):\n",
    "        return self.X[idx, :], self.y[idx]"
   ],
   "outputs": [],
   "execution_count": 5
  },
  {
   "cell_type": "code",
   "metadata": {
    "ExecuteTime": {
     "end_time": "2025-01-03T15:43:48.095799Z",
     "start_time": "2025-01-03T15:43:48.088285Z"
    }
   },
   "source": [
    "from sklearn import preprocessing\n",
    "\n",
    "# define a function with different normalization and scaling techniques\n",
    "def preprocess(X_train, X_val, X_test, modality):\n",
    "    \n",
    "    X_train_p, X_val_p, X_test_p = X_train, X_val, X_test\n",
    "\n",
    "    if modality == 'l2' or modality == 'l1':\n",
    "        X_train_p = preprocessing.normalize(X_train, norm=modality)\n",
    "        X_val_p = preprocessing.normalize(X_test, norm=modality)\n",
    "        X_test_p = preprocessing.normalize(X_test, norm=modality)\n",
    "\n",
    "    if modality == 'standard' or modality == 'min-max':\n",
    "        if modality == 'standard':\n",
    "            scaler = preprocessing.StandardScaler()\n",
    "            scaler.fit(X_train)\n",
    "        elif modality == 'min-max':\n",
    "            scaler = preprocessing.MinMaxScaler()\n",
    "            scaler.fit(X_train)\n",
    "        \n",
    "        X_train_p = scaler.transform(X_train)\n",
    "        X_val_p = scaler.transform(X_val)\n",
    "        X_test_p = scaler.transform(X_test)\n",
    "        \n",
    "    return X_train_p, X_val_p, X_test_p"
   ],
   "outputs": [],
   "execution_count": 6
  },
  {
   "cell_type": "code",
   "metadata": {
    "ExecuteTime": {
     "end_time": "2025-01-03T15:43:48.116738Z",
     "start_time": "2025-01-03T15:43:48.108730Z"
    }
   },
   "source": [
    "# Architecture\n",
    "\n",
    "class FeedForwardPlus(nn.Module):\n",
    "    def __init__(self, input_size, num_classes, hidden_size, depth=1, batch_norm=False, drop=0):\n",
    "        super(FeedForwardPlus, self).__init__()\n",
    "        \n",
    "        model = []\n",
    "        model += [nn.Linear(input_size, hidden_size)]\n",
    "        if batch_norm:\n",
    "            model += [nn.BatchNorm1d(hidden_size)]\n",
    "        model += [nn.ReLU()]\n",
    "\n",
    "        block = [\n",
    "            nn.Linear(hidden_size, hidden_size),\n",
    "            nn.ReLU()\n",
    "        ]\n",
    "\n",
    "        block_batch_norm = [\n",
    "            nn.Linear(hidden_size, hidden_size),\n",
    "            nn.BatchNorm1d(hidden_size),\n",
    "            nn.ReLU()\n",
    "        ]\n",
    "\n",
    "        block_dropout = [\n",
    "            nn.Dropout(drop),\n",
    "            nn.Linear(hidden_size, hidden_size),\n",
    "            nn.ReLU()\n",
    "        ]\n",
    "\n",
    "        for i in range(depth):\n",
    "            if not batch_norm and drop == 0:\n",
    "                model += block\n",
    "            elif batch_norm and drop == 0:\n",
    "                model += block_batch_norm\n",
    "            elif drop > 0 and not batch_norm:\n",
    "                model += block_dropout\n",
    "        \n",
    "        self.model = nn.Sequential(*model)\n",
    "        \n",
    "        self.output = nn.Linear(hidden_size, num_classes)\n",
    "        \n",
    "\n",
    "    def forward(self, x):\n",
    "        h = self.model(x)\n",
    "        out = self.output(h)\n",
    "        return out\n"
   ],
   "outputs": [],
   "execution_count": 7
  },
  {
   "cell_type": "code",
   "metadata": {
    "ExecuteTime": {
     "end_time": "2025-01-03T15:43:48.139303Z",
     "start_time": "2025-01-03T15:43:48.131680Z"
    }
   },
   "source": [
    "# Define a function for the training process\n",
    "\n",
    "def train_model(model, criterion, optimizer, epoch, scheduler, train_loader, val_loader, device, writer, log_name=\"model\"):\n",
    "    n_iter = 0\n",
    "    best_valid_loss = float('inf')\n",
    "    for epoch in range(epoch):\n",
    "        model.train()\n",
    "        \n",
    "        for data, targets in train_loader:\n",
    "            data, targets = data.to(device), targets.to(device)  # why here?\n",
    "            \n",
    "            optimizer.zero_grad()\n",
    "\n",
    "            # Forward pass\n",
    "            y_pred = model(data)\n",
    "\n",
    "            # Compute Loss\n",
    "            loss = criterion(y_pred, targets)\n",
    "            writer.add_scalar(\"Loss/train\", loss, n_iter)\n",
    "\n",
    "            # Backward pass\n",
    "            loss.backward()\n",
    "            optimizer.step()\n",
    "\n",
    "            n_iter += 1\n",
    "        \n",
    "        labels, _, y_pred = test_model(model, val_loader, device)\n",
    "        loss_val = criterion(y_pred, labels)\n",
    "        writer.add_scalar(\"Loss/val\", loss_val, epoch)\n",
    "        \n",
    "        # save best model\n",
    "        if loss_val.item() < best_valid_loss:\n",
    "            best_valid_loss = loss_val.item()\n",
    "            if not os.path.exists('models'):\n",
    "                os.makedirs('models')\n",
    "            torch.save(model.state_dict(), 'models/'+log_name)\n",
    "        \n",
    "        writer.add_scalar(\"hparam/Learning Rate\", scheduler.get_last_lr()[0], epoch)\n",
    "        \n",
    "        scheduler.step()\n",
    "            \n",
    "    return model, best_valid_loss"
   ],
   "outputs": [],
   "execution_count": 8
  },
  {
   "cell_type": "code",
   "metadata": {
    "ExecuteTime": {
     "end_time": "2025-01-03T16:23:54.878521Z",
     "start_time": "2025-01-03T16:23:54.873490Z"
    }
   },
   "source": [
    "# Define a function to evaluate the performance on validation and test sets\n",
    "\n",
    "def test_model(model, data_loader, device):\n",
    "    model.eval()\n",
    "    y_pred = []\n",
    "    y_test = []\n",
    "    \n",
    "    for data, targets in data_loader:\n",
    "        data, targets = data.to(device), targets.to(device)\n",
    "        y_pred += model(data)\n",
    "        #print(y_pred)\n",
    "        y_test += targets\n",
    "        #print(targets)\n",
    "    \n",
    "    y_test = torch.stack(y_test).squeeze()\n",
    "    y_pred = torch.stack(y_pred).squeeze()\n",
    "    y_pred_c = y_pred.argmax(dim=1, keepdim=True).squeeze()\n",
    "    \n",
    "    return y_test, y_pred_c, y_pred"
   ],
   "outputs": [],
   "execution_count": 35
  },
  {
   "cell_type": "code",
   "metadata": {
    "ExecuteTime": {
     "end_time": "2025-01-03T15:51:40.793885Z",
     "start_time": "2025-01-03T15:51:40.788236Z"
    }
   },
   "source": [
    "# look for GPU\n",
    "device = torch.device('cuda' if torch.cuda.is_available() else 'cpu')\n",
    "# device = torch.device('mps')\n",
    "print(\"Device: {}\".format(device))"
   ],
   "outputs": [
    {
     "name": "stdout",
     "output_type": "stream",
     "text": [
      "Device: cpu\n"
     ]
    }
   ],
   "execution_count": 20
  },
  {
   "cell_type": "code",
   "metadata": {
    "ExecuteTime": {
     "end_time": "2025-01-03T16:43:32.577091Z",
     "start_time": "2025-01-03T16:43:27.371204Z"
    }
   },
   "source": [
    "save_in_test_folder = True\n",
    "if save_in_test_folder:\n",
    "    filepath = \"../TestModule\"\n",
    "else:\n",
    "    filepath = \".\"\n",
    "\n",
    "\n",
    "FILENAME = \"dataset/train_dataset.csv\"\n",
    "\n",
    "#Prepare train data\n",
    "data = pd.read_csv(FILENAME, sep=\",\", low_memory=False)\n",
    "\n",
    "# get features names\n",
    "features = list(data.columns)\n",
    "features_to_remove = [\"label\", \"ts\", \"src_ip\", \"dst_ip\", \"dns_query\", \"ssl_subject\", \"ssl_issuer\", \"http_uri\", \"type\", \"http_referrer\"]\n",
    "features = [feature for feature in features if feature not in features_to_remove]\n",
    "data = data[features + [\"type\"]]\n",
    "\n",
    "# Converte i valori in numeri, sostituendo quelli non validi con NaN\n",
    "data[\"src_bytes\"] = pd.to_numeric(data[\"src_bytes\"], errors='coerce')\n",
    "# Filtra le righe con NaN (valori non convertibili)\n",
    "data = data.dropna(subset=[\"src_bytes\"])\n",
    "# Converte i valori rimasti in interi\n",
    "data.loc[:, \"src_bytes\"] = data[\"src_bytes\"].astype(int)\n",
    "\n",
    "print(\"#Righe: \" + str(data.shape[0]) + \" #Colonne: \" + str(data.shape[1]))\n",
    "df1 = data.dropna()\n",
    "print(\"#Righe: \" + str(df1.shape[0]) + \" #Colonne: \" + str(data.shape[1]))\n",
    "\n",
    "\n",
    "data = data.sample(n=1000)\n",
    "\n",
    "X = data[features]\n",
    "y = data[\"type\"]\n",
    "\n",
    "le = preprocessing.LabelEncoder()\n",
    "le.fit(y)\n",
    "with open(f\"{filepath}/transformer/target_encoder.save\", \"wb\") as f:\n",
    "    pickle.dump(le, f)\n",
    "\n",
    "y = le.transform(y)\n",
    "\n",
    "# Separate indices\n",
    "indices = np.arange(X.shape[0])\n",
    "train_idx, val_idx = train_test_split(indices, test_size=0.2, stratify=y, random_state=seed)\n",
    "\n",
    "X_val = X.iloc[val_idx]\n",
    "y_val = y[val_idx]\n",
    "X_train = X.iloc[train_idx]\n",
    "y_train = y[train_idx]\n",
    "\n",
    "#Prepare test data\n",
    "df2 = pd.read_csv(\"dataset/test_dataset.csv\", sep=\",\", low_memory=False)\n",
    "df2 = df2.dropna()\n",
    "X_test = df2[features]\n",
    "y_test = df2[\"type\"].to_numpy()\n",
    "y_test = le.transform(y_test)\n",
    "\n",
    "\n",
    "with open(\"../TestModule/transformer/transformer.save\", 'rb') as f:\n",
    "    transformer = pickle.load(f)\n",
    "\n",
    "X_train = transformer.transform(X_train).to_numpy()\n",
    "X_val = transformer.transform(X_val).to_numpy()\n",
    "X_test = transformer.transform(X_test).to_numpy()\n",
    "\n",
    "print(X_train.shape[0])\n",
    "print(X_val.shape[0])\n",
    "print(X_test.shape[0])\n",
    "\n",
    "# # Create the dataset\n",
    "train_dataset = MyDataset(X_train,y_train)\n",
    "val_dataset = MyDataset(X_val,y_val)\n",
    "test_dataset = MyDataset(X_test,y_test)"
   ],
   "outputs": [
    {
     "name": "stdout",
     "output_type": "stream",
     "text": [
      "#Righe: 616983 #Colonne: 37\n",
      "#Righe: 616983 #Colonne: 37\n",
      "800\n",
      "200\n",
      "211043\n"
     ]
    }
   ],
   "execution_count": 52
  },
  {
   "metadata": {},
   "cell_type": "markdown",
   "source": [
    "Run Tensorboard from the command line:\n",
    "\n",
    "\"tensorboard --logdir runs/\""
   ]
  },
  {
   "metadata": {
    "ExecuteTime": {
     "end_time": "2025-01-03T16:44:29.631775Z",
     "start_time": "2025-01-03T16:43:35.121789Z"
    }
   },
   "cell_type": "code",
   "source": [
    "start = time.time()\n",
    "\n",
    "# hyperparatemeters\n",
    "batch_size = 16\n",
    "depth = 2\n",
    "hidden_size = 16\n",
    "batch_norm = True\n",
    "drop = 0\n",
    "num_epochs = 100  # try 100, 200, 500\n",
    "learning_rate = 0.01\n",
    "gamma=0.5\n",
    "step_size=25\n",
    "log_name = \"B\"+str(batch_size)+\"-dim\"+str(hidden_size)+\"-dp\"+str(depth)+\"-ep\"+str(num_epochs)+\"-lr\"+str(learning_rate)+\"-steplr\"+str(step_size)+\"-gamma\"+str(gamma)+\"-BN\"+str(batch_norm)+\"-drop\"+str(drop)\n",
    "\n",
    "# fix the seed for reproducibility\n",
    "fix_random(seed)\n",
    "\n",
    "\n",
    "# Create relative dataloaders\n",
    "train_loader = DataLoader(train_dataset, batch_size=batch_size, shuffle=True)\n",
    "val_loader = DataLoader(val_dataset, batch_size=batch_size)\n",
    "test_loader = DataLoader(test_dataset, batch_size=batch_size)\n",
    "\n",
    "\n",
    "# Define the architecture, loss and optimizer\n",
    "model = FeedForwardPlus(train_dataset.num_features, train_dataset.num_classes, hidden_size, depth, batch_norm=batch_norm, drop=drop)\n",
    "print(model)\n",
    "model.to(device)\n",
    "\n",
    "\n",
    "# Define the training elements\n",
    "criterion = torch.nn.CrossEntropyLoss()\n",
    "# optimizer = torch.optim.SGD(model.parameters(), lr=learning_rate, momentum=0.9)\n",
    "optimizer = torch.optim.Adam(model.parameters(), lr=learning_rate)\n",
    "scheduler = torch.optim.lr_scheduler.StepLR(optimizer, step_size=step_size, gamma=gamma)\n",
    "\n",
    "\n",
    "# Test before the training\n",
    "y_test, y_pred_c, _ = test_model(model, test_loader, device)\n",
    "acc = (y_test == y_pred_c).float().sum() / y_test.shape[0]\n",
    "print(\"Accuracy before training:\", acc.cpu().numpy())\n",
    "\n",
    "\n",
    "# Start tensorboard\n",
    "writer = SummaryWriter('runs/'+log_name)\n",
    "\n",
    "\n",
    "# Train the model\n",
    "model, best_valid_loss = train_model(model, criterion, optimizer, num_epochs, scheduler, train_loader, val_loader, device, writer, log_name)\n",
    "\n",
    "\n",
    "# Load best model\n",
    "model.load_state_dict(torch.load(\"models/\"+log_name, weights_only=True))\n",
    "model.to(device)\n",
    "\n",
    "\n",
    "# Test after the training\n",
    "y_test, y_pred_c, _ = test_model(model, test_loader, device)\n",
    "acc = (y_test == y_pred_c).float().sum() / y_test.shape[0]\n",
    "print(\"Accuracy after training:\", acc.cpu().numpy())\n",
    "\n",
    "\n",
    "# Close tensorboard writer after a training\n",
    "writer.flush()\n",
    "writer.close()\n",
    "\n",
    "# Save timestamp\n",
    "end = time.time()\n",
    "print(\"Time elapsed:\", end - start)"
   ],
   "outputs": [
    {
     "name": "stdout",
     "output_type": "stream",
     "text": [
      "FeedForwardPlus(\n",
      "  (model): Sequential(\n",
      "    (0): Linear(in_features=36, out_features=16, bias=True)\n",
      "    (1): BatchNorm1d(16, eps=1e-05, momentum=0.1, affine=True, track_running_stats=True)\n",
      "    (2): ReLU()\n",
      "    (3): Linear(in_features=16, out_features=16, bias=True)\n",
      "    (4): BatchNorm1d(16, eps=1e-05, momentum=0.1, affine=True, track_running_stats=True)\n",
      "    (5): ReLU()\n",
      "    (6): Linear(in_features=16, out_features=16, bias=True)\n",
      "    (7): BatchNorm1d(16, eps=1e-05, momentum=0.1, affine=True, track_running_stats=True)\n",
      "    (8): ReLU()\n",
      "  )\n",
      "  (output): Linear(in_features=16, out_features=10, bias=True)\n",
      ")\n",
      "Accuracy before training: 0.09478163\n",
      "Accuracy after training: 0.45866483\n",
      "Time elapsed: 54.50086069107056\n"
     ]
    }
   ],
   "execution_count": 53
  },
  {
   "cell_type": "code",
   "execution_count": null,
   "metadata": {},
   "outputs": [
    {
     "name": "stdout",
     "output_type": "stream",
     "text": [
      "B16-dim16-dp2-ep100-lr0.01-steplr25.0-gamma1-BNFalse-drop0, time elapsed: 46.69086503982544\n",
      "B16-dim16-dp2-ep100-lr0.01-steplr25.0-gamma1-BNTrue-drop0, time elapsed: 69.31996536254883\n",
      "B16-dim16-dp2-ep100-lr0.01-steplr25.0-gamma0.5-BNFalse-drop0, time elapsed: 45.75888180732727\n",
      "B16-dim16-dp2-ep100-lr0.01-steplr25.0-gamma0.5-BNTrue-drop0, time elapsed: 69.57393264770508\n",
      "B16-dim16-dp4-ep100-lr0.01-steplr25.0-gamma1-BNFalse-drop0, time elapsed: 52.68555998802185\n",
      "B16-dim16-dp4-ep100-lr0.01-steplr25.0-gamma1-BNTrue-drop0, time elapsed: 87.06301474571228\n",
      "B16-dim16-dp4-ep100-lr0.01-steplr25.0-gamma0.5-BNFalse-drop0, time elapsed: 56.223888874053955\n",
      "B16-dim16-dp4-ep100-lr0.01-steplr25.0-gamma0.5-BNTrue-drop0, time elapsed: 85.26657390594482\n",
      "B16-dim32-dp2-ep100-lr0.01-steplr25.0-gamma1-BNFalse-drop0, time elapsed: 47.15054726600647\n",
      "B16-dim32-dp2-ep100-lr0.01-steplr25.0-gamma1-BNTrue-drop0, time elapsed: 70.03140211105347\n",
      "B16-dim32-dp2-ep100-lr0.01-steplr25.0-gamma0.5-BNFalse-drop0, time elapsed: 44.39270615577698\n",
      "B16-dim32-dp2-ep100-lr0.01-steplr25.0-gamma0.5-BNTrue-drop0, "
     ]
    }
   ],
   "source": [
    "# Grid Search \n",
    "\n",
    "#hyperparameters\n",
    "seed = 42\n",
    "batch_sizes = [16, 32]\n",
    "hidden_sizes = [16, 32] # 64\n",
    "batch_norm_list = [False, True]\n",
    "drop = 0\n",
    "depths = [2, 4]\n",
    "num_epochs = 100\n",
    "learning_rate = 0.01\n",
    "gammas = [1, 0.5]\n",
    "step_size = num_epochs / 4\n",
    "\n",
    "import itertools\n",
    "hyperparameters = itertools.product(batch_sizes, hidden_sizes, depths, gammas, batch_norm_list)\n",
    "\n",
    "\n",
    "#grid search loop\n",
    "for batch_size, hidden_size, depth, gamma, batch_norm in hyperparameters:\n",
    "    fix_random(seed)\n",
    "    \n",
    "    start = time.time()\n",
    "\n",
    "    log_name = \"B\"+str(batch_size)+\"-dim\"+str(hidden_size)+\"-dp\"+str(depth)+\"-ep\"+str(num_epochs)+\"-lr\"+str(learning_rate)+\"-steplr\"+str(step_size)+\"-gamma\"+str(gamma)+\"-BN\"+str(batch_norm)+\"-drop\"+str(drop)\n",
    "    print(log_name, end=\", \")\n",
    "    \n",
    "    #start tensorboard\n",
    "    writer = SummaryWriter('runs/'+log_name)\n",
    "\n",
    "    # Create relative dataloaders\n",
    "    train_loader = DataLoader(train_dataset, batch_size=batch_size, shuffle=True)\n",
    "    val_loader = DataLoader(val_dataset, batch_size=batch_size)\n",
    "\n",
    "    #define architecture, loss and optimizer\n",
    "    model = FeedForwardPlus(train_dataset.num_features, train_dataset.num_classes, hidden_size, depth, batch_norm=batch_norm)\n",
    "    model.to(device)\n",
    "    \n",
    "\n",
    "    #train\n",
    "    criterion = torch.nn.CrossEntropyLoss()\n",
    "    #optimizer = torch.optim.SGD(model.parameters(), lr=learning_rate, momentum=0.9)\n",
    "    optimizer = torch.optim.Adam(model.parameters(), lr=learning_rate)\n",
    "    scheduler = torch.optim.lr_scheduler.StepLR(optimizer, step_size=step_size, gamma=gamma)\n",
    "    model, best_valid_loss = train_model(model, criterion, optimizer, num_epochs, scheduler, train_loader, val_loader, device, writer, log_name)\n",
    "\n",
    "    writer.add_hparams({'hparam/bsize': batch_size, 'hparam/hidden size': hidden_size, 'hparam/depth':depth+2, 'hparam/scheduler': gamma,'hparam/batch norm': batch_norm}, {'best loss': best_valid_loss})\n",
    "    writer.flush()\n",
    "\n",
    "    print(\"time elapsed:\", time.time() - start)\n",
    "writer.close()"
   ]
  },
  {
   "cell_type": "code",
   "execution_count": null,
   "metadata": {},
   "outputs": [],
   "source": [
    "# Choose and load the best model and evaluate it on the test set\n",
    "filename = \"models/B16-dim16-dp4-ep100-lr0.01-steplr25.0-gamma1-BNFalse-drop0\"\n",
    "model = FeedForwardPlus(train_dataset.num_features, train_dataset.num_classes, 16, 4)\n",
    "model.load_state_dict(torch.load(filename, weights_only=True))\n",
    "model.to(device)\n",
    "\n",
    "y_test, y_pred_c, _ = test_model(model, test_loader, device)\n",
    "acc = (y_test == y_pred_c).float().sum() / y_test.shape[0]\n",
    "\n",
    "print(\"Accuracy of the best model on the test set:\", acc.cpu().numpy())"
   ]
  }
 ],
 "metadata": {
  "kernelspec": {
   "display_name": "da",
   "language": "python",
   "name": "python3"
  },
  "language_info": {
   "codemirror_mode": {
    "name": "ipython",
    "version": 3
   },
   "file_extension": ".py",
   "mimetype": "text/x-python",
   "name": "python",
   "nbconvert_exporter": "python",
   "pygments_lexer": "ipython3",
   "version": "3.10.15"
  }
 },
 "nbformat": 4,
 "nbformat_minor": 2
}
