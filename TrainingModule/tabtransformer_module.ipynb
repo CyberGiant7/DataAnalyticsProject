{
 "cells": [
  {
   "metadata": {},
   "cell_type": "markdown",
   "source": "# TabTransformer",
   "id": "63bee39ae7f9f0d9"
  },
  {
   "metadata": {},
   "cell_type": "markdown",
   "source": "## Import libraries",
   "id": "fb44cfacde06769d"
  },
  {
   "metadata": {
    "ExecuteTime": {
     "end_time": "2025-01-31T19:01:44.854999Z",
     "start_time": "2025-01-31T19:01:38.823327Z"
    }
   },
   "cell_type": "code",
   "source": [
    "import itertools\n",
    "import pickle\n",
    "import random\n",
    "import time\n",
    "\n",
    "import numpy as np\n",
    "import pandas as pd\n",
    "import torch\n",
    "import torch.nn as nn\n",
    "from sklearn import preprocessing\n",
    "from sklearn.compose import ColumnTransformer\n",
    "from sklearn.metrics import accuracy_score, balanced_accuracy_score, f1_score\n",
    "from sklearn.model_selection import StratifiedKFold, train_test_split\n",
    "from sklearn.preprocessing import OrdinalEncoder, StandardScaler\n",
    "from sklearn.utils.class_weight import compute_class_weight\n",
    "from torch.utils.data import DataLoader\n",
    "from torch.utils.tensorboard import SummaryWriter"
   ],
   "id": "aad8f447c0f546f8",
   "outputs": [],
   "execution_count": 1
  },
  {
   "metadata": {},
   "cell_type": "markdown",
   "source": "## Setting device and seed",
   "id": "faeeb4159ba17af7"
  },
  {
   "metadata": {
    "ExecuteTime": {
     "end_time": "2025-01-31T19:01:44.991361Z",
     "start_time": "2025-01-31T19:01:44.874926Z"
    }
   },
   "cell_type": "code",
   "source": [
    "SEED = 42\n",
    "\n",
    "\n",
    "def fix_random(seed: int) -> None:\n",
    "    np.random.seed(seed)\n",
    "    random.seed(seed)\n",
    "    torch.manual_seed(seed)\n",
    "    torch.cuda.manual_seed(seed)\n",
    "    torch.backends.cudnn.benchmark = False\n",
    "    torch.backends.cudnn.deterministic = True  # slower\n",
    "\n",
    "\n",
    "fix_random(SEED)\n",
    "\n",
    "if torch.cuda.is_available():\n",
    "    device = torch.device('cuda')\n",
    "elif torch.backends.mps.is_available():\n",
    "    device = torch.device('mps')\n",
    "else:\n",
    "    device = torch.device('cpu')\n",
    "\n",
    "print('Using device:', device)"
   ],
   "id": "df74ef3a7896fcc1",
   "outputs": [
    {
     "name": "stdout",
     "output_type": "stream",
     "text": [
      "Using device: cuda\n"
     ]
    }
   ],
   "execution_count": 2
  },
  {
   "metadata": {},
   "cell_type": "markdown",
   "source": "## Model definition",
   "id": "5a3edb68937bc46"
  },
  {
   "metadata": {
    "ExecuteTime": {
     "end_time": "2025-01-31T19:01:45.475294Z",
     "start_time": "2025-01-31T19:01:45.461795Z"
    }
   },
   "cell_type": "code",
   "source": [
    "class TabTransformer(nn.Module):\n",
    "    def __init__(self, cat_dims, num_numerical, num_classes, dim_embedding=8, num_heads=2, num_layers=2, dropout=0.1, hidden_size=None):\n",
    "        \"\"\"\n",
    "        Args:\n",
    "            cat_dims: List of integers, dove ogni elemento rappresenta i valori unici di una colonna categoriale.\n",
    "            num_numerical: Numero di caratteristiche numeriche.\n",
    "            num_classes: Numero di classi per output.\n",
    "            dim_embedding: Dimensione degli embeddings.\n",
    "            num_heads: Numero di \"head\" nel Multi-Head Attention.\n",
    "            num_layers: Numero di livelli Transformer.\n",
    "            dropout: Dropout per prevenire overfitting.\n",
    "        \"\"\"\n",
    "        super(TabTransformer, self).__init__()\n",
    "\n",
    "        # Embeddings per features categoriali\n",
    "        self.embeddings = nn.ModuleList([\n",
    "            nn.Embedding(cat_dim, dim_embedding) for cat_dim in cat_dims\n",
    "        ])\n",
    "\n",
    "        # Layer per le features numeriche\n",
    "        self.numerical_norm = nn.LayerNorm(num_numerical) if num_numerical > 0 else None\n",
    "\n",
    "        # Transformer Encoder\n",
    "        encoder_layer = nn.TransformerEncoderLayer(\n",
    "            d_model=dim_embedding,\n",
    "            nhead=num_heads,\n",
    "            dim_feedforward=dim_embedding * 4,\n",
    "            dropout=dropout,\n",
    "            batch_first=True\n",
    "        )\n",
    "        self.transformer = nn.TransformerEncoder(encoder_layer, num_layers=num_layers)\n",
    "\n",
    "        # Classificatore finale\n",
    "        self.classifier = nn.Sequential(\n",
    "            nn.Linear(len(cat_dims) * dim_embedding + (num_numerical if num_numerical > 0 else 0), hidden_size),\n",
    "            nn.ReLU(),\n",
    "            nn.Dropout(dropout),\n",
    "\n",
    "            nn.Linear(hidden_size, hidden_size),\n",
    "            nn.ReLU(),\n",
    "            nn.Dropout(dropout),\n",
    "\n",
    "            nn.Linear(hidden_size, num_classes)\n",
    "        )\n",
    "\n",
    "    def forward(self, x_cat, x_num):\n",
    "        \"\"\"\n",
    "        Args:\n",
    "            x_cat: Tensore (batch_size, num_categorical_features), indici per features categoriali.\n",
    "            x_num: Tensore (batch_size, num_numerical_features), valori numerici.\n",
    "        Returns:\n",
    "            Logits (batch_size, num_classes).\n",
    "        \"\"\"\n",
    "        # Embedding per features categoriali\n",
    "        x_cat = x_cat.long()\n",
    "        cat_embeddings = [emb(x_cat[:, i]) for i, emb in enumerate(self.embeddings)]\n",
    "        cat_embeddings = torch.stack(cat_embeddings, dim=1)  # (batch_size, num_categorical_features, dim_embedding)\n",
    "\n",
    "        # Passa attraverso il Transformer\n",
    "        transformed_cat = self.transformer(cat_embeddings)  # (batch_size, num_categorical_features, dim_embedding)\n",
    "        transformed_cat = transformed_cat.view(transformed_cat.size(0), -1)  # Flatten per concatenare\n",
    "\n",
    "        # Normalizzazione delle features numeriche\n",
    "        if x_num is not None and self.numerical_norm is not None:\n",
    "            x_num = self.numerical_norm(x_num)\n",
    "\n",
    "        # Concatenazione\n",
    "        if x_num is not None:\n",
    "            x = torch.cat([transformed_cat, x_num], dim=1)\n",
    "        else:\n",
    "            x = transformed_cat\n",
    "\n",
    "        # Classificatore\n",
    "        logits = self.classifier(x)\n",
    "        return logits\n",
    "\n",
    "\n",
    "class PyTorchTabTransformerWrapper:\n",
    "    def __init__(self, model, cat_idx, num_idx, device='cpu'):\n",
    "        self.model = model\n",
    "        self.device = device\n",
    "        self.model.to(self.device)\n",
    "        self.cat_idx = cat_idx\n",
    "        self.num_idx = num_idx\n",
    "\n",
    "    def predict(self, X):\n",
    "        \"\"\"\n",
    "        Esegue le previsioni sul modello PyTorch.\n",
    "        \"\"\"\n",
    "        self.model.eval()  # Modalità di valutazione\n",
    "        with torch.no_grad():\n",
    "            # Controlla se X è un array numpy e convertilo in un tensore PyTorch\n",
    "            if isinstance(X, np.ndarray):\n",
    "                X = torch.tensor(X, dtype=torch.float32).to(self.device)\n",
    "\n",
    "            # Supponi che X sia diviso in categoriale e numerico\n",
    "            y_pred = self.model(X[:, self.cat_idx].long(),\n",
    "                                X[:, self.num_idx])\n",
    "            return torch.argmax(y_pred, dim=1).cpu().numpy()"
   ],
   "id": "3d300e891c0e88e8",
   "outputs": [],
   "execution_count": 3
  },
  {
   "metadata": {},
   "cell_type": "markdown",
   "source": "## Training and test utilities",
   "id": "40fedc19aa807a13"
  },
  {
   "metadata": {
    "ExecuteTime": {
     "end_time": "2025-01-31T19:01:45.528999Z",
     "start_time": "2025-01-31T19:01:45.514943Z"
    }
   },
   "cell_type": "code",
   "source": [
    "def train_model(model, criterion, optimizer, epochs, data_loader, val_loader, device, scheduler, patience):\n",
    "    # Initialize best validation loss and epochs since last improvement\n",
    "    best_val_loss = float('inf')\n",
    "    epochs_since_last_improvement = 0\n",
    "\n",
    "    # Record the start time\n",
    "    start = time.time()\n",
    "\n",
    "    # Initialize lists to store loss history\n",
    "    loss_history = []\n",
    "    val_loss_history = []\n",
    "\n",
    "    # Loop over epochs\n",
    "    for epoch in range(epochs):\n",
    "        # Set the model to training mode\n",
    "        model.train()\n",
    "\n",
    "        # Record the start time of the epoch\n",
    "        start_epoch = time.time()\n",
    "\n",
    "        # Initialize training loss for the epoch\n",
    "        loss_train = 0\n",
    "\n",
    "        # Loop over batches in the data loader\n",
    "        for x_cat, x_num, targets in data_loader:\n",
    "            # Move data to the specified device (CPU or GPU)\n",
    "            x_cat, x_num, targets = x_cat.to(device), x_num.to(device), targets.to(device)\n",
    "            optimizer.zero_grad()\n",
    "            # Forward pass\n",
    "            outputs = model(x_cat, x_num)\n",
    "            # Compute loss\n",
    "            loss = criterion(outputs, targets.long())\n",
    "            # Backward pass\n",
    "            loss.backward()\n",
    "            # Update weights\n",
    "            optimizer.step()\n",
    "            loss_train += loss.item()\n",
    "\n",
    "        # Step the learning rate scheduler\n",
    "        scheduler.step()\n",
    "        loss_train /= len(data_loader)\n",
    "\n",
    "        # Compute validation loss\n",
    "        val_loss, y_pred, y_true = test_model(model, criterion, val_loader)\n",
    "\n",
    "        loss_history.append(loss_train)\n",
    "        val_loss_history.append(val_loss)\n",
    "\n",
    "        # Calculate balanced accuracy\n",
    "        balanced_accuracy = balanced_accuracy_score(\n",
    "            y_true.detach().cpu().numpy(),\n",
    "            y_pred.detach().cpu().numpy()\n",
    "        )\n",
    "        print(f'Epoch [{epoch}/{epochs}] - {time.time() - start_epoch:.2f} seconds - Train Loss: {loss_train:.6f} - Val Loss: {val_loss:.6f} - Val Balanced Accuracy: {balanced_accuracy:.6f}')\n",
    "\n",
    "        # Early stopping with threshold\n",
    "        threshold = 0.01\n",
    "        if val_loss < best_val_loss - threshold:\n",
    "            best_val_loss = val_loss\n",
    "            torch.save(model, f\"{filepath}/models/model_best_tf.save\")\n",
    "            epochs_since_last_improvement = 0\n",
    "        elif epochs_since_last_improvement >= patience:\n",
    "            break\n",
    "        else:\n",
    "            epochs_since_last_improvement += 1\n",
    "\n",
    "    print('\\nTraining ended after {:.2f} seconds - Best val_loss: {:.6f}'.format(time.time() - start, best_val_loss))\n",
    "    # Load the best model\n",
    "    best_model = torch.load(f\"{filepath}/models/model_best_tf.save\")\n",
    "    return best_model, loss_history, val_loss_history, best_val_loss\n",
    "\n",
    "\n",
    "def test_model(model, criterion, loader):\n",
    "    # Set the model to evaluation mode\n",
    "    model.eval()\n",
    "    y_pred = []\n",
    "    y_true = []\n",
    "\n",
    "    total_loss = 0.0\n",
    "\n",
    "    # Turn off gradient tracking\n",
    "    with torch.no_grad():\n",
    "        for x_cat, x_num, targets in loader:\n",
    "            # Move data to the specified device (CPU or GPU)\n",
    "            x_cat, x_num, targets = x_cat.to(device), x_num.to(device), targets.to(device)\n",
    "            # Outputs logits or probabilities\n",
    "            preds = model(x_cat, x_num)\n",
    "\n",
    "            # Compute loss\n",
    "            loss = criterion(preds, targets.long())\n",
    "            total_loss += loss.item()\n",
    "\n",
    "            # Convert predictions to class labels\n",
    "            predicted_classes = torch.argmax(preds, dim=1)\n",
    "\n",
    "            # Accumulate predictions and targets\n",
    "            y_pred.append(predicted_classes.cpu())\n",
    "            y_true.append(targets.cpu())\n",
    "\n",
    "    # Concatenate tensors only after the loop to minimize memory usage\n",
    "    y_pred = torch.cat(y_pred, dim=0)\n",
    "    y_true = torch.cat(y_true, dim=0)\n",
    "\n",
    "    # Calculate average loss\n",
    "    avg_loss = total_loss / len(loader)\n",
    "    return avg_loss, y_pred, y_true\n",
    "\n",
    "\n",
    "def evaluate_model(y_test, y_pred):\n",
    "    acc = accuracy_score(y_test, y_pred)\n",
    "    bacc = balanced_accuracy_score(y_test, y_pred)\n",
    "    f1 = f1_score(y_test, y_pred, average=\"weighted\")\n",
    "\n",
    "    return {\"acc\": acc, \"bacc\": bacc, \"f1\": f1}"
   ],
   "id": "12dbd74af7086467",
   "outputs": [],
   "execution_count": 4
  },
  {
   "metadata": {},
   "cell_type": "markdown",
   "source": "## Define train, validation",
   "id": "19509bda22360902"
  },
  {
   "metadata": {
    "ExecuteTime": {
     "end_time": "2025-01-31T20:43:00.240238Z",
     "start_time": "2025-01-31T20:42:53.301836Z"
    }
   },
   "cell_type": "code",
   "source": [
    "save_in_test_folder = True\n",
    "if save_in_test_folder:\n",
    "    filepath = \"../TestModule\"\n",
    "else:\n",
    "    filepath = \"..\"\n",
    "\n",
    "FILENAME = \"dataset/train_dataset.csv\"\n",
    "\n",
    "#Prepare train data\n",
    "df1 = pd.read_csv(FILENAME, sep=\",\", low_memory=False)\n",
    "\n",
    "# Extract relevant features excluding specified columns\n",
    "features_to_retain = df1.columns.difference([\"label\", \"ts\", \"type\", \"http_referrer\"]).tolist()\n",
    "df1 = df1[features_to_retain + [\"type\"]]\n",
    "\n",
    "print(\"#Righe: \" + str(df1.shape[0]) + \" #Colonne: \" + str(df1.shape[1]))\n",
    "\n",
    "# Converte i valori in numeri, sostituendo quelli non validi con NaN\n",
    "df1[\"src_bytes\"] = pd.to_numeric(df1[\"src_bytes\"], errors='coerce')\n",
    "# Filtra le righe con NaN (valori non convertibili)\n",
    "df1 = df1.dropna(subset=[\"src_bytes\"])\n",
    "# Converte i valori rimasti in interi\n",
    "df1.loc[:, \"src_bytes\"] = df1[\"src_bytes\"].astype(int)\n",
    "\n",
    "df1 = df1.dropna()\n",
    "print(\"Dopo drop NaN\")\n",
    "print(\"#Righe: \" + str(df1.shape[0]) + \" #Colonne: \" + str(df1.shape[1]))\n",
    "\n",
    "features = df1.columns.difference([\"type\"]).tolist()\n",
    "X = df1[features]\n",
    "y = df1[\"type\"]\n",
    "\n",
    "with open(f\"{filepath}/transformer/target_encoder.save\", \"rb\") as f:\n",
    "    le: preprocessing.LabelEncoder = pickle.load(f)\n",
    "\n",
    "num_classes = len(le.classes_)\n",
    "y = le.transform(y)\n",
    "\n",
    "# Separate indices\n",
    "indices = np.arange(X.shape[0])\n",
    "train_idx, val_idx = train_test_split(indices, test_size=0.2, stratify=y, random_state=SEED)\n",
    "\n",
    "# Take only X with index in val_idx\n",
    "X_val = X.iloc[val_idx]\n",
    "y_val = y[val_idx]\n",
    "\n",
    "# Take only X with index in train_idx\n",
    "X_train = X.iloc[train_idx]\n",
    "y_train = y[train_idx]"
   ],
   "id": "6141bad0ff77c3fa",
   "outputs": [
    {
     "name": "stdout",
     "output_type": "stream",
     "text": [
      "#Righe: 617002 #Colonne: 43\n",
      "Dopo drop NaN\n",
      "#Righe: 616983 #Colonne: 43\n"
     ]
    }
   ],
   "execution_count": 11
  },
  {
   "metadata": {},
   "cell_type": "markdown",
   "source": "## Preprocessing",
   "id": "100df547cbfe401c"
  },
  {
   "metadata": {
    "ExecuteTime": {
     "end_time": "2025-01-31T20:43:14.142738Z",
     "start_time": "2025-01-31T20:43:07.711093Z"
    }
   },
   "cell_type": "code",
   "source": [
    "class CustomOrdinalEncoder(OrdinalEncoder):\n",
    "    def transform(self, X):\n",
    "        encoded = super().transform(X)\n",
    "        # Shift all values by +1 and replace unknown_value (-1) with 0\n",
    "        return np.where(encoded == -1, 0, encoded + 1)\n",
    "\n",
    "    def inverse_transform(self, X):\n",
    "        # Handle the inverse transform to account for the +1 offset\n",
    "        X = np.where(X == 0, -1, X - 1)\n",
    "        return super().inverse_transform(X)\n",
    "\n",
    "\n",
    "def preprocess(X_train, X_val, save=False):\n",
    "    categorical_columns = X_train.select_dtypes(include=[\"object\"]).columns.tolist()\n",
    "    numeric_columns = X_train.select_dtypes(include=[\"int64\", \"float64\"]).columns.tolist()\n",
    "\n",
    "    ct = ColumnTransformer(\n",
    "        [\n",
    "            (\"cat\", CustomOrdinalEncoder(handle_unknown='use_encoded_value', unknown_value=-1), categorical_columns),  # Trasforma le colonne categoriche\n",
    "            (\"scale\", StandardScaler(), numeric_columns)  # Normalizza le colonne numeriche\n",
    "        ],\n",
    "        remainder=\"passthrough\"  # Mantieni le altre colonne invariate\n",
    "    )\n",
    "    ct.set_output(transform=\"pandas\")\n",
    "    ct = ct.fit(X_train)\n",
    "\n",
    "    if save:\n",
    "        with open(f\"{filepath}/transformer/transformer_tf.save\", \"wb\") as f:\n",
    "            pickle.dump(ct, f)\n",
    "\n",
    "    # train set\n",
    "    X_train = ct.transform(X_train)\n",
    "\n",
    "    cat_idxs = [i for i, f in enumerate(X_train.columns) if \"cat__\" in f]\n",
    "    cat_dims = [len(X_train[f].unique()) + 1 for i, f in enumerate(X_train.columns) if \"cat__\" in f]\n",
    "    num_idxs = [i for i, f in enumerate(X_train.columns) if \"scale__\" in f]\n",
    "    numeric_columns_number = len(num_idxs)\n",
    "\n",
    "    X_train = X_train.to_numpy()\n",
    "\n",
    "    # validation set\n",
    "    X_val = ct.transform(X_val).to_numpy()\n",
    "    return X_train, X_val, cat_idxs, cat_dims, num_idxs, numeric_columns_number"
   ],
   "id": "3417858b58cc5303",
   "outputs": [],
   "execution_count": 12
  },
  {
   "metadata": {},
   "cell_type": "markdown",
   "source": "## Create DataLoader",
   "id": "9b8d57a3f8419975"
  },
  {
   "metadata": {
    "ExecuteTime": {
     "end_time": "2025-01-31T19:01:51.277196Z",
     "start_time": "2025-01-31T19:01:51.267338Z"
    }
   },
   "cell_type": "code",
   "source": [
    "class TabDataset(torch.utils.data.Dataset):\n",
    "    def __init__(self, x_cat, x_num, y):\n",
    "        self.x_cat = x_cat\n",
    "        self.x_num = x_num\n",
    "        self.y = y\n",
    "\n",
    "    def __len__(self):\n",
    "        return len(self.y)\n",
    "\n",
    "    def __getitem__(self, idx):\n",
    "        return self.x_cat[idx], self.x_num[idx], self.y[idx]\n",
    "\n",
    "def create_datasets(X_train, y_train, X_val, y_val, cat_idxs, num_idxs):\n",
    "    # Convert training data to PyTorch tensors\n",
    "    X_train_tensor = torch.tensor(X_train, dtype=torch.float32)\n",
    "    y_train_tensor = torch.tensor(y_train, dtype=torch.long)\n",
    "\n",
    "    # Convert validation data to PyTorch tensors\n",
    "    X_val_tensor = torch.tensor(X_val, dtype=torch.float32)\n",
    "    y_val_tensor = torch.tensor(y_val, dtype=torch.long)\n",
    "\n",
    "    # Filter the categorical and numerical features for training data\n",
    "    X_cat_train = X_train_tensor[:, cat_idxs]\n",
    "    X_num_train = X_train_tensor[:, num_idxs]\n",
    "\n",
    "    # Filter the categorical and numerical features for validation data\n",
    "    X_cat_val = X_val_tensor[:, cat_idxs].long()\n",
    "    X_num_val = X_val_tensor[:, num_idxs]\n",
    "\n",
    "    # Create the dataset for training and validation\n",
    "    train_dataset = TabDataset(X_cat_train, X_num_train, y_train_tensor)\n",
    "    val_dataset = TabDataset(X_cat_val, X_num_val, y_val_tensor)\n",
    "\n",
    "    return train_dataset, val_dataset"
   ],
   "id": "906c3f2f4dd19812",
   "outputs": [],
   "execution_count": 7
  },
  {
   "metadata": {},
   "cell_type": "markdown",
   "source": "## Hyperparameters configuration",
   "id": "cb6d99290b7a9591"
  },
  {
   "metadata": {
    "ExecuteTime": {
     "end_time": "2025-01-31T17:35:16.543758Z",
     "start_time": "2025-01-31T17:35:16.534675Z"
    }
   },
   "cell_type": "code",
   "source": [
    "nums_epochs = [1000]\n",
    "batch_sizes = [512, 1024]\n",
    "patience = [20]\n",
    "dim_embedding = [8, 16]\n",
    "num_heads = [4, 8]\n",
    "num_layers = [2, 4]\n",
    "hidden_sizes = [64, 128]\n",
    "learning_rate = [0.01, 0.001]\n",
    "dropout = [0, 0.3]\n",
    "hyperparameters = list(itertools.product(nums_epochs, batch_sizes, hidden_sizes, patience, dim_embedding, num_heads, num_layers, learning_rate, dropout))\n",
    "n_comb = len(hyperparameters)\n",
    "print(f'Number of hyperparameter combinations: {n_comb}')"
   ],
   "id": "f0b658a4c013b7d7",
   "outputs": [
    {
     "name": "stdout",
     "output_type": "stream",
     "text": [
      "Number of hyperparameter combinations: 128\n"
     ]
    }
   ],
   "execution_count": 8
  },
  {
   "metadata": {},
   "cell_type": "markdown",
   "source": "# Hyperparameter tuning",
   "id": "4361a2f0c8e134a7"
  },
  {
   "metadata": {
    "ExecuteTime": {
     "end_time": "2025-01-31T17:38:06.534064Z",
     "start_time": "2025-01-31T17:35:19.742121Z"
    }
   },
   "cell_type": "code",
   "source": [
    "kf = StratifiedKFold(n_splits=5, random_state=SEED, shuffle=True)\n",
    "\n",
    "# Initialize the model, loss, and optimizer\n",
    "best_loss = float('inf')\n",
    "current_iter = 0\n",
    "for epochs, batch_size, hidden_size, patience_, dim_embedding_, num_heads_, num_layers_, lr, dropout in hyperparameters:\n",
    "    fix_random(SEED)\n",
    "    start = time.time()\n",
    "\n",
    "    print(f'Iteration {current_iter + 1}/{n_comb} - Hyperparameters: epochs={epochs}, batch_size={batch_size}, hidden_size={hidden_size}, patience={patience_}, dim_embedding={dim_embedding_}, num_heads={num_heads_}, num_layers={num_layers_}, lr={lr}, dropout={dropout}')\n",
    "\n",
    "    log_name = f\"B{batch_size}-hidden{hidden_size}-pat{patience_}-dim{dim_embedding_}-heads{num_heads_}-layers{num_layers_}-lr{lr}-drop{dropout}\"\n",
    "\n",
    "    writer = SummaryWriter('runs/tab_transformer/' + log_name)\n",
    "    accuracy_per_fold = []\n",
    "    balanced_accuracy_score_per_fold = []\n",
    "    f1_score_per_fold = []\n",
    "    best_loss_per_fold = []\n",
    "\n",
    "    fold = 1\n",
    "\n",
    "    for train_index, val_index in kf.split(X, y):\n",
    "        X_train_fold, X_val_fold = X.iloc[train_index], X.iloc[val_index]\n",
    "        y_train_fold, y_val_fold = y[train_index], y[val_index]\n",
    "\n",
    "        X_train_fold, X_val_fold, cat_idxs_fold, cat_dims_fold, num_idxs_fold, numeric_columns_number_fold = preprocess(X_train_fold, X_val_fold)\n",
    "\n",
    "        train_dataset_fold, val_dataset_fold = create_datasets(X_train_fold, y_train_fold, X_val_fold, y_val_fold, cat_idxs_fold, num_idxs_fold)\n",
    "\n",
    "        train_loader_fold = DataLoader(train_dataset_fold, batch_size=batch_size, shuffle=True)\n",
    "        val_loader_fold = DataLoader(val_dataset_fold, batch_size=batch_size)\n",
    "\n",
    "        # Modello TabTransformer\n",
    "        model = TabTransformer(cat_dims_fold, numeric_columns_number_fold, num_classes, dim_embedding=dim_embedding_, num_heads=num_heads_, num_layers=num_layers_, dropout=dropout, hidden_size=hidden_size).to(device)\n",
    "\n",
    "        class_weights_fold = compute_class_weight(class_weight='balanced', classes=np.unique(y_train_fold), y=y_train_fold)\n",
    "        class_weights_fold = dict(enumerate(class_weights_fold))\n",
    "\n",
    "        criterion = torch.nn.CrossEntropyLoss(weight=torch.tensor(list(class_weights_fold.values()), dtype=torch.float32).to(device))\n",
    "        optimizer = torch.optim.AdamW(model.parameters(), lr=lr)\n",
    "        scheduler = torch.optim.lr_scheduler.StepLR(optimizer, step_size=10, gamma=0.9)\n",
    "\n",
    "        # Training\n",
    "        model, loss_history, val_loss_history, best_loss_per_fold = train_model(\n",
    "            model, criterion, optimizer, epochs, train_loader_fold, val_loader_fold, device, scheduler, patience_\n",
    "        )\n",
    "\n",
    "        # Validation\n",
    "        val_loss, y_pred, y_true = test_model(model, criterion, val_loader_fold)\n",
    "        perf = evaluate_model(y_true.detach().cpu().numpy(), y_pred.detach().cpu().numpy())\n",
    "\n",
    "        print(f\"Fold {fold} - Accuracy: {perf['acc']:.2f}%\")\n",
    "        print(f\"Fold {fold} - Balanced Accuracy: {perf['bacc']:.2f}%\")\n",
    "        print(f\"Fold {fold} - F1 Score: {perf['f1']:.2f}%\")\n",
    "\n",
    "        accuracy_per_fold.append(perf[\"acc\"])\n",
    "        balanced_accuracy_score_per_fold.append(perf[\"bacc\"])\n",
    "        f1_score_per_fold.append(perf[\"f1\"])\n",
    "        best_loss_per_fold.append(best_loss)\n",
    "        fold += 1\n",
    "\n",
    "    # Riassunto dei risultati\n",
    "    print(\"Cross-Validation Results:\")\n",
    "    print(f\"Average Accuracy: {np.mean(accuracy_per_fold) * 100:.2f}%\")\n",
    "    print(f\"Standard Deviation of Accuracy: {np.std(accuracy_per_fold) * 100:.2f}%\")\n",
    "    print(f\"Average Balanced Accuracy: {np.mean(balanced_accuracy_score_per_fold) * 100:.2f}%\")\n",
    "    print(f\"Standard Deviation of Balanced Accuracy: {np.std(balanced_accuracy_score_per_fold) * 100:.2f}%\")\n",
    "    print(f\"Average F1 Score: {np.mean(f1_score_per_fold) * 100:.2f}%\")\n",
    "    print(f\"Standard Deviation of F1 Score: {np.std(f1_score_per_fold) * 100:.2f}%\")\n",
    "\n",
    "    # Close tensorboard writer after a training\n",
    "    # Log hyperparameters and metrics to TensorBoard\n",
    "    writer.add_hparams(\n",
    "        {\n",
    "            'hparam/bsize': batch_size,\n",
    "            'hparam/hidden_size': hidden_size,\n",
    "            'hparam/epochs': epochs,\n",
    "            'hparam/patience': patience_,\n",
    "            'hparam/dim_embedding': dim_embedding_,\n",
    "            'hparam/num_heads': num_heads_,\n",
    "            'hparam/num_layers': num_layers_,\n",
    "            'hparam/lr': lr,\n",
    "            'hparam/dropout': dropout\n",
    "        },\n",
    "        {\n",
    "            'Best Loss': np.mean(best_loss_per_fold),\n",
    "            'Avg Accuracy': np.mean(accuracy_per_fold),\n",
    "            'Std Accuracy': np.std(accuracy_per_fold),\n",
    "            'Avg Balanced Accuracy': np.mean(balanced_accuracy_score_per_fold),\n",
    "            'Std Balanced Accuracy': np.std(balanced_accuracy_score_per_fold),\n",
    "            'Avg F1 score': np.mean(f1_score_per_fold),\n",
    "            'Std F1 score': np.std(f1_score_per_fold)\n",
    "        }\n",
    "    )\n",
    "    writer.flush()\n",
    "    current_iter += 1\n",
    "    writer.close()"
   ],
   "id": "717d69d7207ac54b",
   "outputs": [
    {
     "name": "stdout",
     "output_type": "stream",
     "text": [
      "Iteration 1/128 - Hyperparameters: epochs=1000, batch_size=512, hidden_size=64, patience=20, dim_embedding=8, num_heads=4, num_layers=2, lr=0.01, dropout=0\n"
     ]
    },
    {
     "name": "stderr",
     "output_type": "stream",
     "text": [
      "C:\\Users\\miaob\\PycharmProjects\\DataAnalyticsProject\\Lib\\site-packages\\torch\\nn\\functional.py:5476: UserWarning: 1Torch was not compiled with flash attention. (Triggered internally at ..\\aten\\src\\ATen\\native\\transformers\\cuda\\sdp_utils.cpp:263.)\n",
      "  attn_output = scaled_dot_product_attention(q, k, v, attn_mask, dropout_p, is_causal)\n"
     ]
    },
    {
     "name": "stdout",
     "output_type": "stream",
     "text": [
      "Epoch [0/1000] - 40.52 seconds - Train Loss: 0.280117 - Val Loss: 0.263549 - Val Balanced Accuracy: 0.934718\n",
      "Epoch [1/1000] - 40.12 seconds - Train Loss: 0.138882 - Val Loss: 0.130698 - Val Balanced Accuracy: 0.948677\n",
      "Epoch [2/1000] - 42.10 seconds - Train Loss: 0.106272 - Val Loss: 0.170121 - Val Balanced Accuracy: 0.956101\n"
     ]
    },
    {
     "ename": "KeyboardInterrupt",
     "evalue": "",
     "output_type": "error",
     "traceback": [
      "\u001B[1;31m---------------------------------------------------------------------------\u001B[0m",
      "\u001B[1;31mKeyboardInterrupt\u001B[0m                         Traceback (most recent call last)",
      "Cell \u001B[1;32mIn[9], line 44\u001B[0m\n\u001B[0;32m     41\u001B[0m scheduler \u001B[38;5;241m=\u001B[39m torch\u001B[38;5;241m.\u001B[39moptim\u001B[38;5;241m.\u001B[39mlr_scheduler\u001B[38;5;241m.\u001B[39mStepLR(optimizer, step_size\u001B[38;5;241m=\u001B[39m\u001B[38;5;241m10\u001B[39m, gamma\u001B[38;5;241m=\u001B[39m\u001B[38;5;241m0.9\u001B[39m)\n\u001B[0;32m     43\u001B[0m \u001B[38;5;66;03m# Training\u001B[39;00m\n\u001B[1;32m---> 44\u001B[0m model, loss_history, val_loss_history, best_loss_per_fold \u001B[38;5;241m=\u001B[39m \u001B[43mtrain_model\u001B[49m\u001B[43m(\u001B[49m\n\u001B[0;32m     45\u001B[0m \u001B[43m    \u001B[49m\u001B[43mmodel\u001B[49m\u001B[43m,\u001B[49m\u001B[43m \u001B[49m\u001B[43mcriterion\u001B[49m\u001B[43m,\u001B[49m\u001B[43m \u001B[49m\u001B[43moptimizer\u001B[49m\u001B[43m,\u001B[49m\u001B[43m \u001B[49m\u001B[43mepochs\u001B[49m\u001B[43m,\u001B[49m\u001B[43m \u001B[49m\u001B[43mtrain_loader_fold\u001B[49m\u001B[43m,\u001B[49m\u001B[43m \u001B[49m\u001B[43mval_loader_fold\u001B[49m\u001B[43m,\u001B[49m\u001B[43m \u001B[49m\u001B[43mdevice\u001B[49m\u001B[43m,\u001B[49m\u001B[43m \u001B[49m\u001B[43mscheduler\u001B[49m\u001B[43m,\u001B[49m\u001B[43m \u001B[49m\u001B[43mpatience_\u001B[49m\n\u001B[0;32m     46\u001B[0m \u001B[43m\u001B[49m\u001B[43m)\u001B[49m\n\u001B[0;32m     48\u001B[0m \u001B[38;5;66;03m# Validation\u001B[39;00m\n\u001B[0;32m     49\u001B[0m val_loss, y_pred, y_true \u001B[38;5;241m=\u001B[39m test_model(model, criterion, val_loader_fold)\n",
      "Cell \u001B[1;32mIn[4], line 34\u001B[0m, in \u001B[0;36mtrain_model\u001B[1;34m(model, criterion, optimizer, epochs, data_loader, val_loader, device, scheduler, patience)\u001B[0m\n\u001B[0;32m     32\u001B[0m loss \u001B[38;5;241m=\u001B[39m criterion(outputs, targets\u001B[38;5;241m.\u001B[39mlong())\n\u001B[0;32m     33\u001B[0m \u001B[38;5;66;03m# Backward pass\u001B[39;00m\n\u001B[1;32m---> 34\u001B[0m \u001B[43mloss\u001B[49m\u001B[38;5;241;43m.\u001B[39;49m\u001B[43mbackward\u001B[49m\u001B[43m(\u001B[49m\u001B[43m)\u001B[49m\n\u001B[0;32m     35\u001B[0m \u001B[38;5;66;03m# Update weights\u001B[39;00m\n\u001B[0;32m     36\u001B[0m optimizer\u001B[38;5;241m.\u001B[39mstep()\n",
      "File \u001B[1;32m~\\PycharmProjects\\DataAnalyticsProject\\Lib\\site-packages\\torch\\_tensor.py:522\u001B[0m, in \u001B[0;36mTensor.backward\u001B[1;34m(self, gradient, retain_graph, create_graph, inputs)\u001B[0m\n\u001B[0;32m    512\u001B[0m \u001B[38;5;28;01mif\u001B[39;00m has_torch_function_unary(\u001B[38;5;28mself\u001B[39m):\n\u001B[0;32m    513\u001B[0m     \u001B[38;5;28;01mreturn\u001B[39;00m handle_torch_function(\n\u001B[0;32m    514\u001B[0m         Tensor\u001B[38;5;241m.\u001B[39mbackward,\n\u001B[0;32m    515\u001B[0m         (\u001B[38;5;28mself\u001B[39m,),\n\u001B[1;32m   (...)\u001B[0m\n\u001B[0;32m    520\u001B[0m         inputs\u001B[38;5;241m=\u001B[39minputs,\n\u001B[0;32m    521\u001B[0m     )\n\u001B[1;32m--> 522\u001B[0m \u001B[43mtorch\u001B[49m\u001B[38;5;241;43m.\u001B[39;49m\u001B[43mautograd\u001B[49m\u001B[38;5;241;43m.\u001B[39;49m\u001B[43mbackward\u001B[49m\u001B[43m(\u001B[49m\n\u001B[0;32m    523\u001B[0m \u001B[43m    \u001B[49m\u001B[38;5;28;43mself\u001B[39;49m\u001B[43m,\u001B[49m\u001B[43m \u001B[49m\u001B[43mgradient\u001B[49m\u001B[43m,\u001B[49m\u001B[43m \u001B[49m\u001B[43mretain_graph\u001B[49m\u001B[43m,\u001B[49m\u001B[43m \u001B[49m\u001B[43mcreate_graph\u001B[49m\u001B[43m,\u001B[49m\u001B[43m \u001B[49m\u001B[43minputs\u001B[49m\u001B[38;5;241;43m=\u001B[39;49m\u001B[43minputs\u001B[49m\n\u001B[0;32m    524\u001B[0m \u001B[43m\u001B[49m\u001B[43m)\u001B[49m\n",
      "File \u001B[1;32m~\\PycharmProjects\\DataAnalyticsProject\\Lib\\site-packages\\torch\\autograd\\__init__.py:266\u001B[0m, in \u001B[0;36mbackward\u001B[1;34m(tensors, grad_tensors, retain_graph, create_graph, grad_variables, inputs)\u001B[0m\n\u001B[0;32m    261\u001B[0m     retain_graph \u001B[38;5;241m=\u001B[39m create_graph\n\u001B[0;32m    263\u001B[0m \u001B[38;5;66;03m# The reason we repeat the same comment below is that\u001B[39;00m\n\u001B[0;32m    264\u001B[0m \u001B[38;5;66;03m# some Python versions print out the first line of a multi-line function\u001B[39;00m\n\u001B[0;32m    265\u001B[0m \u001B[38;5;66;03m# calls in the traceback and some print out the last line\u001B[39;00m\n\u001B[1;32m--> 266\u001B[0m \u001B[43mVariable\u001B[49m\u001B[38;5;241;43m.\u001B[39;49m\u001B[43m_execution_engine\u001B[49m\u001B[38;5;241;43m.\u001B[39;49m\u001B[43mrun_backward\u001B[49m\u001B[43m(\u001B[49m\u001B[43m  \u001B[49m\u001B[38;5;66;43;03m# Calls into the C++ engine to run the backward pass\u001B[39;49;00m\n\u001B[0;32m    267\u001B[0m \u001B[43m    \u001B[49m\u001B[43mtensors\u001B[49m\u001B[43m,\u001B[49m\n\u001B[0;32m    268\u001B[0m \u001B[43m    \u001B[49m\u001B[43mgrad_tensors_\u001B[49m\u001B[43m,\u001B[49m\n\u001B[0;32m    269\u001B[0m \u001B[43m    \u001B[49m\u001B[43mretain_graph\u001B[49m\u001B[43m,\u001B[49m\n\u001B[0;32m    270\u001B[0m \u001B[43m    \u001B[49m\u001B[43mcreate_graph\u001B[49m\u001B[43m,\u001B[49m\n\u001B[0;32m    271\u001B[0m \u001B[43m    \u001B[49m\u001B[43minputs\u001B[49m\u001B[43m,\u001B[49m\n\u001B[0;32m    272\u001B[0m \u001B[43m    \u001B[49m\u001B[43mallow_unreachable\u001B[49m\u001B[38;5;241;43m=\u001B[39;49m\u001B[38;5;28;43;01mTrue\u001B[39;49;00m\u001B[43m,\u001B[49m\n\u001B[0;32m    273\u001B[0m \u001B[43m    \u001B[49m\u001B[43maccumulate_grad\u001B[49m\u001B[38;5;241;43m=\u001B[39;49m\u001B[38;5;28;43;01mTrue\u001B[39;49;00m\u001B[43m,\u001B[49m\n\u001B[0;32m    274\u001B[0m \u001B[43m\u001B[49m\u001B[43m)\u001B[49m\n",
      "\u001B[1;31mKeyboardInterrupt\u001B[0m: "
     ]
    }
   ],
   "execution_count": 9
  },
  {
   "metadata": {},
   "cell_type": "markdown",
   "source": [
    "# Training final model\n",
    "### Define weights for unbalanced classes"
   ],
   "id": "16212b070609649a"
  },
  {
   "metadata": {
    "ExecuteTime": {
     "end_time": "2025-01-31T19:01:53.031283Z",
     "start_time": "2025-01-31T19:01:52.941219Z"
    }
   },
   "cell_type": "code",
   "source": [
    "class_weights = compute_class_weight(class_weight='balanced', classes=np.unique(y_train), y=y_train)\n",
    "class_weights = dict(enumerate(class_weights))\n",
    "print(class_weights)"
   ],
   "id": "b827774d570a500f",
   "outputs": [
    {
     "name": "stdout",
     "output_type": "stream",
     "text": [
      "{0: 4.069469865611345, 1: 0.3381003918130257, 2: 1.132545546326465, 3: 4.543735616312253, 4: 98.7172, 5: 2.9863625363020327, 6: 1.1966881637007225, 7: 63.85329883570505, 8: 0.28803534018428717, 9: 0.9751965859248429}\n"
     ]
    }
   ],
   "execution_count": 8
  },
  {
   "metadata": {},
   "cell_type": "markdown",
   "source": "### Train",
   "id": "cbdea9745757ba7a"
  },
  {
   "metadata": {
    "ExecuteTime": {
     "end_time": "2025-01-31T19:54:52.130450Z",
     "start_time": "2025-01-31T19:01:54.382030Z"
    }
   },
   "cell_type": "code",
   "source": [
    "nums_epochs = 1000\n",
    "batch_sizes = 1024\n",
    "patience = 20\n",
    "dim_embedding = 16\n",
    "num_heads = 8\n",
    "num_layers = 4\n",
    "hidden_sizes = 128\n",
    "learning_rate = 0.001\n",
    "dropout = 0\n",
    "\n",
    "\n",
    "# Preprocessing\n",
    "X_train, X_val, cat_idxs, cat_dims, num_idxs, numeric_columns_number = preprocess(X_train, X_val, save=True)\n",
    "\n",
    "# Modello TabTransformer\n",
    "model = TabTransformer(cat_dims, numeric_columns_number, num_classes, dim_embedding=dim_embedding, num_heads=num_heads, num_layers=num_layers, dropout=dropout, hidden_size=hidden_sizes).to(device)\n",
    "\n",
    "criterion = torch.nn.CrossEntropyLoss(weight=torch.tensor(list(class_weights.values()), dtype=torch.float32).to(device))\n",
    "optimizer = torch.optim.AdamW(model.parameters(), lr=learning_rate)\n",
    "scheduler = torch.optim.lr_scheduler.StepLR(optimizer, step_size=10, gamma=0.9)\n",
    "\n",
    "train_dataset, val_dataset = create_datasets(X_train, y_train, X_val, y_val, cat_idxs, num_idxs)\n",
    "\n",
    "train_loader = DataLoader(train_dataset, batch_size=batch_sizes, shuffle=True)\n",
    "val_loader = DataLoader(val_dataset, batch_size=batch_sizes)\n",
    "\n",
    "model, loss_history, val_loss_history, best_loss = train_model(\n",
    "    model, criterion, optimizer, nums_epochs, train_loader, val_loader, device, scheduler, patience\n",
    ")\n",
    "\n",
    "val_loss, y_pred, y_true = test_model(model, criterion, val_loader)\n",
    "perf = evaluate_model(y_true.detach().cpu().numpy(), y_pred.detach().cpu().numpy())\n",
    "print(f\"Accuracy: {perf['acc']:.7f}%\")\n",
    "print(f\"Balanced Accuracy: {perf['bacc']:.7f}%\")\n",
    "print(f\"F1 Score: {perf['f1']:.7f}%\")\n",
    "\n",
    "with open(f\"{filepath}/models/tf.save\", \"wb\") as f:\n",
    "    wrapped_model = PyTorchTabTransformerWrapper(model, cat_idxs, num_idxs)\n",
    "    pickle.dump(wrapped_model, f)"
   ],
   "id": "5e03f4bbceab0bb",
   "outputs": [
    {
     "name": "stderr",
     "output_type": "stream",
     "text": [
      "C:\\Users\\miaob\\PycharmProjects\\DataAnalyticsProject\\Lib\\site-packages\\torch\\nn\\functional.py:5476: UserWarning: 1Torch was not compiled with flash attention. (Triggered internally at ..\\aten\\src\\ATen\\native\\transformers\\cuda\\sdp_utils.cpp:263.)\n",
      "  attn_output = scaled_dot_product_attention(q, k, v, attn_mask, dropout_p, is_causal)\n"
     ]
    },
    {
     "name": "stdout",
     "output_type": "stream",
     "text": [
      "Epoch [0/1000] - 79.69 seconds - Train Loss: 0.369596 - Val Loss: 0.170598 - Val Balanced Accuracy: 0.934658\n",
      "Epoch [1/1000] - 81.52 seconds - Train Loss: 0.128152 - Val Loss: 0.130987 - Val Balanced Accuracy: 0.946693\n",
      "Epoch [2/1000] - 80.12 seconds - Train Loss: 0.101529 - Val Loss: 0.106721 - Val Balanced Accuracy: 0.961531\n",
      "Epoch [3/1000] - 78.78 seconds - Train Loss: 0.086029 - Val Loss: 0.148470 - Val Balanced Accuracy: 0.926864\n",
      "Epoch [4/1000] - 80.84 seconds - Train Loss: 0.081851 - Val Loss: 0.087949 - Val Balanced Accuracy: 0.961556\n",
      "Epoch [5/1000] - 81.12 seconds - Train Loss: 0.078054 - Val Loss: 0.073106 - Val Balanced Accuracy: 0.971046\n",
      "Epoch [6/1000] - 78.97 seconds - Train Loss: 0.071989 - Val Loss: 0.112734 - Val Balanced Accuracy: 0.956147\n",
      "Epoch [7/1000] - 81.49 seconds - Train Loss: 0.068518 - Val Loss: 0.084484 - Val Balanced Accuracy: 0.964273\n",
      "Epoch [8/1000] - 80.71 seconds - Train Loss: 0.062639 - Val Loss: 0.079101 - Val Balanced Accuracy: 0.976346\n",
      "Epoch [9/1000] - 78.41 seconds - Train Loss: 0.056039 - Val Loss: 0.112088 - Val Balanced Accuracy: 0.957154\n",
      "Epoch [10/1000] - 78.25 seconds - Train Loss: 0.053633 - Val Loss: 0.091249 - Val Balanced Accuracy: 0.964012\n",
      "Epoch [11/1000] - 79.29 seconds - Train Loss: 0.047158 - Val Loss: 0.059010 - Val Balanced Accuracy: 0.973424\n",
      "Epoch [12/1000] - 78.99 seconds - Train Loss: 0.044520 - Val Loss: 0.053038 - Val Balanced Accuracy: 0.980497\n",
      "Epoch [13/1000] - 77.61 seconds - Train Loss: 0.041331 - Val Loss: 0.086429 - Val Balanced Accuracy: 0.965207\n",
      "Epoch [14/1000] - 79.29 seconds - Train Loss: 0.036957 - Val Loss: 0.039336 - Val Balanced Accuracy: 0.988713\n",
      "Epoch [15/1000] - 79.31 seconds - Train Loss: 0.032942 - Val Loss: 0.043628 - Val Balanced Accuracy: 0.983201\n",
      "Epoch [16/1000] - 77.29 seconds - Train Loss: 0.035616 - Val Loss: 0.035918 - Val Balanced Accuracy: 0.989781\n",
      "Epoch [17/1000] - 78.89 seconds - Train Loss: 0.029317 - Val Loss: 0.040208 - Val Balanced Accuracy: 0.986593\n",
      "Epoch [18/1000] - 79.49 seconds - Train Loss: 0.026684 - Val Loss: 0.029193 - Val Balanced Accuracy: 0.991582\n",
      "Epoch [19/1000] - 77.99 seconds - Train Loss: 0.025367 - Val Loss: 0.028729 - Val Balanced Accuracy: 0.991715\n",
      "Epoch [20/1000] - 78.49 seconds - Train Loss: 0.026282 - Val Loss: 0.030004 - Val Balanced Accuracy: 0.990586\n",
      "Epoch [21/1000] - 79.30 seconds - Train Loss: 0.023101 - Val Loss: 0.028430 - Val Balanced Accuracy: 0.990878\n",
      "Epoch [22/1000] - 78.39 seconds - Train Loss: 0.023036 - Val Loss: 0.035320 - Val Balanced Accuracy: 0.988694\n",
      "Epoch [23/1000] - 78.04 seconds - Train Loss: 0.022480 - Val Loss: 0.028031 - Val Balanced Accuracy: 0.991361\n",
      "Epoch [24/1000] - 79.42 seconds - Train Loss: 0.021043 - Val Loss: 0.032149 - Val Balanced Accuracy: 0.990794\n",
      "Epoch [25/1000] - 78.95 seconds - Train Loss: 0.021423 - Val Loss: 0.028848 - Val Balanced Accuracy: 0.991029\n",
      "Epoch [26/1000] - 77.46 seconds - Train Loss: 0.019364 - Val Loss: 0.031256 - Val Balanced Accuracy: 0.989034\n",
      "Epoch [27/1000] - 79.48 seconds - Train Loss: 0.019368 - Val Loss: 0.029466 - Val Balanced Accuracy: 0.992196\n",
      "Epoch [28/1000] - 79.23 seconds - Train Loss: 0.019335 - Val Loss: 0.032227 - Val Balanced Accuracy: 0.990941\n",
      "Epoch [29/1000] - 77.52 seconds - Train Loss: 0.019519 - Val Loss: 0.038784 - Val Balanced Accuracy: 0.987079\n",
      "Epoch [30/1000] - 78.97 seconds - Train Loss: 0.019942 - Val Loss: 0.024917 - Val Balanced Accuracy: 0.991670\n",
      "Epoch [31/1000] - 79.49 seconds - Train Loss: 0.017717 - Val Loss: 0.024353 - Val Balanced Accuracy: 0.992684\n",
      "Epoch [32/1000] - 77.96 seconds - Train Loss: 0.016697 - Val Loss: 0.024531 - Val Balanced Accuracy: 0.992586\n",
      "Epoch [33/1000] - 78.39 seconds - Train Loss: 0.015688 - Val Loss: 0.023269 - Val Balanced Accuracy: 0.992519\n",
      "Epoch [34/1000] - 79.42 seconds - Train Loss: 0.016799 - Val Loss: 0.026780 - Val Balanced Accuracy: 0.991514\n",
      "Epoch [35/1000] - 78.74 seconds - Train Loss: 0.017526 - Val Loss: 0.025887 - Val Balanced Accuracy: 0.991287\n",
      "Epoch [36/1000] - 77.62 seconds - Train Loss: 0.015525 - Val Loss: 0.022442 - Val Balanced Accuracy: 0.993229\n",
      "Epoch [37/1000] - 79.43 seconds - Train Loss: 0.015644 - Val Loss: 0.024395 - Val Balanced Accuracy: 0.992935\n",
      "Epoch [38/1000] - 79.06 seconds - Train Loss: 0.015231 - Val Loss: 0.022649 - Val Balanced Accuracy: 0.992908\n",
      "Epoch [39/1000] - 77.40 seconds - Train Loss: 0.014346 - Val Loss: 0.022810 - Val Balanced Accuracy: 0.993224\n",
      "\n",
      "Training ended after 3161.09 seconds - Best val_loss: 0.029193\n",
      "Accuracy: 0.99%\n",
      "Balanced Accuracy: 0.99%\n",
      "F1 Score: 0.99%\n"
     ]
    }
   ],
   "execution_count": 9
  },
  {
   "metadata": {},
   "cell_type": "markdown",
   "source": [
    "### Plot \n",
    "Plot loss history and validation loss history"
   ],
   "id": "75342db3f5c23071"
  },
  {
   "metadata": {
    "ExecuteTime": {
     "end_time": "2025-01-31T20:35:14.497715Z",
     "start_time": "2025-01-31T20:35:13.954086Z"
    }
   },
   "cell_type": "code",
   "source": [
    "from matplotlib import pyplot as plt\n",
    "\n",
    "plt.figure(figsize=(10, 6))\n",
    "plt.plot(loss_history)\n",
    "plt.plot(val_loss_history)\n",
    "plt.title('Model loss')\n",
    "plt.ylabel('Loss')\n",
    "plt.xlabel('Epoch')\n",
    "plt.legend(['Train', 'Validation'], loc='upper left')\n",
    "plt.show()"
   ],
   "id": "f099ebe19ba7b5e",
   "outputs": [
    {
     "data": {
      "text/plain": [
       "<Figure size 1000x600 with 1 Axes>"
      ],
      "image/png": "[encoded data removed]"
     },
     "metadata": {},
     "output_type": "display_data"
    }
   ],
   "execution_count": 10
  }
 ],
 "metadata": {
  "kernelspec": {
   "name": "python3",
   "language": "python",
   "display_name": "Python 3 (ipykernel)"
  }
 },
 "nbformat": 5,
 "nbformat_minor": 9
}
