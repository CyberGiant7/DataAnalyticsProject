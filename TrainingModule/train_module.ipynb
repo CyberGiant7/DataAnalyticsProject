{
 "cells": [
  {
   "cell_type": "markdown",
   "id": "203010d6",
   "metadata": {},
   "source": [
    "## Load the dataset"
   ]
  },
  {
   "cell_type": "code",
   "execution_count": null,
   "id": "95adbe32",
   "metadata": {},
   "outputs": [],
   "source": [
    "import pandas as pd\n",
    "import numpy as np\n",
    "import torch\n",
    "from sklearn.model_selection import train_test_split\n",
    "from sklearn.model_selection import PredefinedSplit\n",
    "from sklearn import preprocessing\n",
    "\n",
    "seed = 42\n",
    "FILENAME = \"dataset/train_dataset.csv\"\n",
    "\n",
    "#Prepare train data\n",
    "df1 = pd.read_csv(FILENAME, sep=\",\", low_memory=False)\n",
    "\n",
    "# remove label columns\n",
    "df1 = df1.drop([\"label\"], axis=1)\n",
    "\n",
    "# get features names\n",
    "features = list(df1.columns)\n",
    "features.remove(\"type\")\n",
    "\n",
    "print(\"#Righe: \" + str(df1.shape[0])+ \" #Colonne: \"+str(df1.shape[1]))\n",
    "df1 = df1.dropna()\n",
    "\n",
    "\n",
    "X = df1[features].to_numpy()\n",
    "y = df1[\"type\"].to_numpy()\n",
    "\n",
    "le = preprocessing.LabelEncoder()\n",
    "le.fit(y)\n",
    "y = le.transform(y)\n",
    "\n",
    "indices = np.arange(X.shape[0])\n",
    "train_idx, val_idx = train_test_split(indices, test_size=0.2, stratify=y, random_state=seed)\n",
    "\n",
    "fold = np.zeros(X.shape[0])\n",
    "fold[train_idx] = -1\n",
    "\n",
    "ps = PredefinedSplit(fold)\n",
    "ps.get_n_splits()\n",
    "\n",
    "# for i, (train_index, test_index) in enumerate(ps.split()):\n",
    "#     print(f\"Fold {i}:\")\n",
    "#     print(f\"  Train: index={train_index}\")\n",
    "#     print(f\"  Test:  index={test_index}\")\n",
    "\n",
    "X_val = X[val_idx,:]\n",
    "y_val = y[val_idx]\n",
    "X_train = X[train_idx,:]\n",
    "y_train = y[train_idx]"
   ]
  },
  {
   "cell_type": "markdown",
   "id": "7d5cee74",
   "metadata": {},
   "source": [
    "## Preprocess the dataset"
   ]
  },
  {
   "cell_type": "code",
   "execution_count": null,
   "id": "4d3b6735f59f4021",
   "metadata": {},
   "outputs": [],
   "source": [
    "df1[\"ts\"].astype()"
   ]
  },
  {
   "cell_type": "code",
   "execution_count": null,
   "id": "adbe4df5",
   "metadata": {},
   "outputs": [],
   "source": [
    "from sklearn.preprocessing import MinMaxScaler\n",
    "import pickle\n",
    "\n",
    "file = open(\"scaler.save\",\"wb\")\n",
    "scaler = MinMaxScaler()\n",
    "X_train = scaler.fit_transform(X_train)\n",
    "X = scaler.transform(X)\n",
    "pickle.dump(scaler, file) "
   ]
  },
  {
   "cell_type": "markdown",
   "id": "261bb308",
   "metadata": {},
   "source": [
    "## Apply Logistic Regression"
   ]
  },
  {
   "cell_type": "code",
   "execution_count": null,
   "id": "1a123521",
   "metadata": {},
   "outputs": [],
   "source": [
    "from sklearn.linear_model import LogisticRegression\n",
    "reg = LogisticRegression(random_state=seed).fit(X_train, y_train)\n",
    "print(\"Performance:\",reg.score(X_val,y_val))\n",
    "file = open(\"lr.save\",\"wb\")\n",
    "pickle.dump(reg, file)\n",
    "file.close()"
   ]
  },
  {
   "cell_type": "markdown",
   "id": "c4d48c37",
   "metadata": {},
   "source": [
    "## Apply Support Vector Classifier with HP tuning"
   ]
  },
  {
   "cell_type": "code",
   "execution_count": null,
   "id": "b5506638",
   "metadata": {},
   "outputs": [],
   "source": [
    "from sklearn.svm import SVC\n",
    "from sklearn.model_selection import GridSearchCV\n",
    "\n",
    "\n",
    "param_grid = {'C': [0.1, 1, 10, 100, 1000],  \n",
    "              'gamma': [1, 0.1, 0.01, 0.001, 0.0001], \n",
    "              'kernel': [\"linear\", \"poly\", \"rbf\", \"sigmoid\"]}  \n",
    "\n",
    "  \n",
    "grid = GridSearchCV(SVC(random_state=seed), param_grid, cv=ps)\n",
    "grid.fit(X, y)\n",
    "file = open(\"svc.save\",\"wb\")\n",
    "pickle.dump(grid.best_estimator_, file)\n",
    "print(\"Best hyperparameters: \",grid.best_estimator_)\n",
    "print(\"Best performance:\",  grid.best_score_)\n",
    "file.close()\n"
   ]
  }
 ],
 "metadata": {
  "kernelspec": {
   "display_name": "da",
   "language": "python",
   "name": "python3"
  },
  "language_info": {
   "codemirror_mode": {
    "name": "ipython",
    "version": 3
   },
   "file_extension": ".py",
   "mimetype": "text/x-python",
   "name": "python",
   "nbconvert_exporter": "python",
   "pygments_lexer": "ipython3",
   "version": "3.10.15"
  }
 },
 "nbformat": 4,
 "nbformat_minor": 5
}
